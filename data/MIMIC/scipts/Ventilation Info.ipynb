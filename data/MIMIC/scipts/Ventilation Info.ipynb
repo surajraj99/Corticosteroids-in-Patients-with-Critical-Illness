{
 "cells": [
  {
   "cell_type": "code",
   "execution_count": 48,
   "id": "79c15300",
   "metadata": {},
   "outputs": [],
   "source": [
    "import pandas as pd\n",
    "import numpy as np\n",
    "import os\n",
    "import math"
   ]
  },
  {
   "cell_type": "markdown",
   "id": "350e2967",
   "metadata": {},
   "source": [
    "#### Make Ventilation General Info from Chart Events"
   ]
  },
  {
   "cell_type": "code",
   "execution_count": 16,
   "id": "a0d46c5d",
   "metadata": {},
   "outputs": [],
   "source": [
    "df_procedure = pd.read_csv(f\"{input_file}icu/procedureevents.csv.gz\", compression='gzip')\n",
    "df_patient = pd.read_csv(output_file + \"patient_info.csv\")"
   ]
  },
  {
   "cell_type": "code",
   "execution_count": 17,
   "id": "7d43a491",
   "metadata": {},
   "outputs": [],
   "source": [
    "input_file = 'Data/MIMIC/mimic-iv-2.2/'\n",
    "output_file = input_file\n",
    "\n",
    "df_items = pd.read_csv(f\"{input_file}icu/d_items.csv\")\n",
    "df_items['label'] = df_items['label'].apply(str.lower)\n",
    "\n",
    "df_items_filt = df_items[df_items['label'].str.contains('ventil')]\n",
    "\n",
    "procedure_items = df_items_filt[df_items_filt['linksto'] == 'procedureevents']['itemid'].values\n",
    "chart_items = df_items_filt[df_items_filt['linksto'] == 'chartevents']['itemid'].values"
   ]
  },
  {
   "cell_type": "code",
   "execution_count": 45,
   "id": "c03c2de6",
   "metadata": {},
   "outputs": [],
   "source": [
    "df_proc_vent_info = df_procedure[df_procedure['itemid'].isin(procedure_items)]\n",
    "patient_stays = df_patient['stay_id'].values\n",
    "df_proc_vent_info_stays = df_proc_vent_info[df_proc_vent_info['stay_id'].isin(patient_stays)].sort_values(by=['stay_id'])\n",
    "df_patient = df_patient.sort_values(by=['stay_id'])\n",
    "df_proc_vent_info_stays = pd.merge(df_proc_vent_info_stays, df_patient[['stay_id', 'intime', 'outtime']])\n",
    "\n",
    "df_proc_vent_info_stays['starttime'] = pd.to_datetime(df_proc_vent_info_stays['starttime'])\n",
    "df_proc_vent_info_stays['endtime'] = pd.to_datetime(df_proc_vent_info_stays['endtime'])\n",
    "df_proc_vent_info_stays['intime'] = pd.to_datetime(df_proc_vent_info_stays['intime'])\n",
    "df_proc_vent_info_stays['outtime'] = pd.to_datetime(df_proc_vent_info_stays['outtime'])\n",
    "df_proc_vent_info_stays['start_from'] = (df_proc_vent_info_stays['starttime'] - df_proc_vent_info_stays['intime']) / np.timedelta64(24, 'h')\n",
    "df_proc_vent_info_stays['time_used'] = (df_proc_vent_info_stays['endtime'] - df_proc_vent_info_stays['starttime']) / np.timedelta64(24, 'h')"
   ]
  },
  {
   "cell_type": "code",
   "execution_count": 51,
   "id": "15e15d82",
   "metadata": {},
   "outputs": [],
   "source": [
    "df_proc_vent_info_stays['day_start'] = df_proc_vent_info_stays['start_from'].apply(math.ceil)\n",
    "df_proc_vent_info_stays['time_used_days'] = df_proc_vent_info_stays['time_used'].apply(math.ceil)\n",
    "df_vent_final = df_proc_vent_info_stays[['subject_id', 'hadm_id', 'stay_id', 'day_start', 'time_used_days']]"
   ]
  },
  {
   "cell_type": "code",
   "execution_count": 54,
   "id": "087a19e7",
   "metadata": {},
   "outputs": [],
   "source": [
    "# Save file\n",
    "df_vent_final.to_csv(output_file + \"ventilation_info.csv\", index=False)"
   ]
  }
 ],
 "metadata": {
  "kernelspec": {
   "display_name": "Python 3 (ipykernel)",
   "language": "python",
   "name": "python3"
  },
  "language_info": {
   "codemirror_mode": {
    "name": "ipython",
    "version": 3
   },
   "file_extension": ".py",
   "mimetype": "text/x-python",
   "name": "python",
   "nbconvert_exporter": "python",
   "pygments_lexer": "ipython3",
   "version": "3.8.12"
  }
 },
 "nbformat": 4,
 "nbformat_minor": 5
}
