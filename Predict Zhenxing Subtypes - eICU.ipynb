{
 "cells": [
  {
   "cell_type": "code",
   "execution_count": null,
   "id": "34acdee1",
   "metadata": {},
   "outputs": [],
   "source": [
    "import pandas as pd\n",
    "import numpy as np\n",
    "import pickle\n",
    "warnings.filterwarnings(\"ignore\")\n",
    "import matplotlib.pyplot as plt\n",
    "import sklearn"
   ]
  },
  {
   "cell_type": "code",
   "execution_count": null,
   "id": "df64acd8",
   "metadata": {},
   "outputs": [],
   "source": [
    "def clean_outliers(data):\n",
    "    cols = list(data)\n",
    "    for col in cols:\n",
    "        min_value = data[col].quantile(0.01)\n",
    "        max_value = data[col].quantile(0.99)\n",
    "        data[col][data[col] < min_value] = None\n",
    "        data[col][data[col] > max_value] = None\n",
    "    return data\n",
    "\n",
    "def intersection(lst1, lst2):\n",
    "    lst3 = [value for value in lst1 if value in lst2]\n",
    "    return lst3"
   ]
  },
  {
   "cell_type": "code",
   "execution_count": null,
   "id": "cf2b4d0c",
   "metadata": {},
   "outputs": [],
   "source": [
    "obj_feature_name = ['SOFA_score', 'Respiration_score', 'Coagulation_score', 'Liver_score',\n",
    "                     'Cardiovascular_score','CNS_score', 'Renal_score',\n",
    "             'CRP', 'Temperature', 'WBC', 'SO2', 'Pao2', 'Respiratory_rate',\n",
    "            'Heart_rate', 'Lactate', 'Systolic_ABP','BUN', 'Creatinine',\n",
    "            'ALT', 'AST', 'Bilirubin','GCS','Hemoglobin', 'INR', 'Platelet',\n",
    "            'Chloride', 'Glucose', 'Sodium', 'BMI',\n",
    "            'Age']"
   ]
  },
  {
   "attachments": {},
   "cell_type": "markdown",
   "id": "1cd457d6",
   "metadata": {},
   "source": [
    "#### Loading in Data"
   ]
  },
  {
   "cell_type": "code",
   "execution_count": null,
   "id": "1b720bac",
   "metadata": {},
   "outputs": [],
   "source": [
    "df_steriods = pd.read_csv(\"data/eICU/steroids.csv\")\n",
    "df_steriods['patientunitstayid'] = df_steriods['patientunitstayid'].astype(int)\n",
    "df_features = pd.read_excel(\"data/eICU/feature.xlsx\")\n",
    "df_patient = pd.read_csv(\"data/eICU/patient.csv\")\n",
    "df_sepsis = pd.read_csv(\"data/eICU/sepsis.csv\")\n",
    "\n",
    "df_comorb = pd.read_csv(\"data/eICU/patient_comorbidity_score_df.csv\")\n",
    "df_sofa = pd.read_csv(\"data/eICU/eICU_sofa.csv\")\n",
    "df_sofa_comps = pd.read_csv(\"data/eICU/eICU_SOFA_score_comps.csv\")\n",
    "\n",
    "df_features = pd.merge(df_features, df_comorb[['patientunitstayid', 'comorbidity_score']], on='patientunitstayid',\n",
    "                        how='left')\n",
    "df_features = pd.merge(df_features, df_sofa[['patientunitstayid', 'sofa']], on='patientunitstayid',\n",
    "                        how='left')\n",
    "df_features = pd.merge(df_features, df_sofa_comps, on='patientunitstayid',\n",
    "                        how='left')\n",
    "\n",
    "sofa_comps = ['Respiration_score', 'Cardiovascular_score', 'CNS_score', 'Liver_score', 'Coagulation_score', 'Renal_score']\n",
    "df_features[sofa_comps] = df_features[sofa_comps].fillna(0)\n",
    "df_features['sofa'] = df_features['Respiration_score'] + \\\n",
    "                        df_features['Coagulation_score'] + \\\n",
    "                            df_features['Liver_score'] + \\\n",
    "                            df_features['Cardiovascular_score'] + \\\n",
    "                            df_features['CNS_score'] + \\\n",
    "                            df_features['Renal_score']\n",
    "\n",
    "sepsis_patients = df_sepsis[df_sepsis['sepsis_onset'] <= 1440]['patientunitstayid'].values"
   ]
  },
  {
   "attachments": {},
   "cell_type": "markdown",
   "id": "2a1555ce",
   "metadata": {},
   "source": [
    "#### Processing Data"
   ]
  },
  {
   "cell_type": "code",
   "execution_count": null,
   "id": "3645bee0",
   "metadata": {},
   "outputs": [],
   "source": [
    "# Initial Preprocessing\n",
    "time_feature_names = ['Albumin', 'ALT', 'AST', 'Bands', 'Bicarbonate', 'Bilirubin',\n",
    "                    'BUN','Chloride', 'Creatinine', 'CRP', 'FiO2', 'GCS', 'Glucose', 'Heart_rate',\n",
    "                    'Hemoglobin', 'INR', 'Lactate', 'Lymphocyte_percent', 'MAP',\n",
    "                    'PaO2', 'Platelet', 'RDW', 'Lymphocyte_count', 'Respiratory_rate','SO2', 'Sodium','Systolic_ABP',\n",
    "                    'Temperature', 'Troponin I', 'Troponin T', 'Urine', 'WBC']\n",
    "baseline_feature_names = ['age', 'gender', 'BMI', 'comorbidity_score', 'sofa', 'Respiration_score',\n",
    "                            'Cardiovascular_score', 'CNS_score', 'Liver_score',\n",
    "                            'Coagulation_score', 'Renal_score']\n",
    "base_tv_point_features = [feat + '_day_' + str(1) for feat in time_feature_names]\n",
    "df_feat_proc = df_features[['patientunitstayid'] + base_tv_point_features + baseline_feature_names]\n",
    "df_feat_proc.columns = ['patientunitstayid'] + time_feature_names + baseline_feature_names\n",
    "df_feat_proc = pd.merge(df_feat_proc, df_patient[['patientunitstayid', 'ethnicity']], on='patientunitstayid')\n",
    "df_feat_proc.rename(columns={'comorbidity_score':'Comorbidity_score', 'age':'Age', 'PaO2':'Pao2', 'sofa':'SOFA_score'}, inplace=True)\n",
    "\n",
    "# Replacing Values\n",
    "df_feat_proc = df_feat_proc[['patientunitstayid'] + obj_feature_name]\n",
    "\n",
    "df_feat_proc = df_feat_proc[df_feat_proc['patientunitstayid'].isin(sepsis_patients)]\n",
    "df_feat_proc.replace([np.inf, -np.inf], np.nan, inplace=True)\n",
    "\n",
    "# Clean outliers\n",
    "df_feat_proc[intersection(time_feature_names+['age', 'BMI'], obj_feature_name)] = clean_outliers(df_feat_proc[intersection(time_feature_names+['age', 'BMI'], obj_feature_name)])\n",
    "\n",
    "# Feature Normalization\n",
    "features_to_transform = []\n",
    "uniform_features = []\n",
    "for f in obj_feature_name:\n",
    "    if len(pd.unique(df_feat_proc[f])) == 1:\n",
    "        uniform_features.append(f)\n",
    "    else:\n",
    "        features_to_transform.append(f)\n",
    "\n",
    "df_feat_proc_orig = df_feat_proc.copy(deep=True)\n",
    "\n",
    "df_feat_proc.replace([np.inf, -np.inf], np.nan, inplace=True)\n",
    "df_feat_proc = df_feat_proc.fillna(df_feat_proc.median())"
   ]
  },
  {
   "cell_type": "code",
   "execution_count": null,
   "id": "c82c5fdf",
   "metadata": {
    "scrolled": true
   },
   "outputs": [],
   "source": [
    "with open(\"data/Subtyping/RI_simplified.pkl\", 'rb') as handle:\n",
    "    ri_model = pickle.load(handle)\n",
    "with open(\"data/Subtyping/RW_simplified.pkl\", 'rb') as handle:\n",
    "    rw_model = pickle.load(handle)\n",
    "\n",
    "with open(\"data/Subtyping/RI_ori.pkl\", 'rb') as handle:\n",
    "    ri_model_rf = pickle.load(handle)\n",
    "with open(\"data/Subtyping/RW_ori.pkl\", 'rb') as handle:\n",
    "    rw_model_rf = pickle.load(handle)"
   ]
  },
  {
   "cell_type": "code",
   "execution_count": null,
   "id": "3454165b",
   "metadata": {},
   "outputs": [],
   "source": [
    "# Get predictions\n",
    "ri_thresh = 0.50\n",
    "rw_thresh = 0.50\n",
    "\n",
    "if type(ri_model) == sklearn.pipeline.Pipeline:\n",
    "    C_1_result = ri_model.predict_proba(df_feat_proc[obj_feature_name].values)[:, 1]\n",
    "    C_3_result = rw_model.predict_proba(df_feat_proc[obj_feature_name].values)[:, 1]\n",
    "else:\n",
    "    C_1_result = ri_model.predict(df_feat_proc[obj_feature_name].values)\n",
    "    C_3_result = rw_model.predict(df_feat_proc[obj_feature_name].values)\n",
    "\n",
    "C_1_result_rf = ri_model_rf.predict_proba(df_feat_proc[obj_feature_name].values)[:, 1]\n",
    "C_3_result_rf = rw_model_rf.predict_proba(df_feat_proc[obj_feature_name].values)[:, 1]\n",
    "\n",
    "remove_overlap = 1\n",
    "if remove_overlap:\n",
    "    C_1_result[((C_1_result > ri_thresh) & (C_3_result > rw_thresh))] = -1\n",
    "    C_3_result[(C_1_result == -1)] = 0\n",
    "    C_1_result_rf[((C_1_result_rf > ri_thresh) & (C_3_result_rf > rw_thresh))] = -1\n",
    "    C_3_result_rf[(C_1_result_rf == -1)] = 0"
   ]
  },
  {
   "cell_type": "code",
   "execution_count": null,
   "id": "544f51c5",
   "metadata": {},
   "outputs": [],
   "source": [
    "df_subtypes = pd.DataFrame()\n",
    "df_subtypes['patientunitstayid'] = df_feat_proc['patientunitstayid']\n",
    "df_subtypes['RI'] = (C_1_result > ri_thresh)\n",
    "df_subtypes['RW'] = (C_3_result > rw_thresh)\n",
    "df_subtypes['subtype'] = 0\n",
    "df_subtypes.loc[df_subtypes.RI == True, 'subtype'] = 1\n",
    "df_subtypes.loc[df_subtypes.RW == True, 'subtype'] = 3"
   ]
  },
  {
   "cell_type": "code",
   "execution_count": null,
   "id": "56c90d76",
   "metadata": {},
   "outputs": [],
   "source": [
    "df_subtypes.to_csv(\"data/eICU/zxu_subtypes_lr_24h.csv\", index=False)"
   ]
  }
 ],
 "metadata": {
  "kernelspec": {
   "display_name": "Python 3 (ipykernel)",
   "language": "python",
   "name": "python3"
  },
  "language_info": {
   "codemirror_mode": {
    "name": "ipython",
    "version": 3
   },
   "file_extension": ".py",
   "mimetype": "text/x-python",
   "name": "python",
   "nbconvert_exporter": "python",
   "pygments_lexer": "ipython3",
   "version": "3.8.12"
  }
 },
 "nbformat": 4,
 "nbformat_minor": 5
}
